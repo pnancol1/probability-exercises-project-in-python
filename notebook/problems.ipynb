{
 "cells": [
  {
   "cell_type": "markdown",
   "id": "a41f3622",
   "metadata": {},
   "source": [
    "# Probability exercises"
   ]
  },
  {
   "cell_type": "markdown",
   "id": "a6bdbd89",
   "metadata": {},
   "source": [
    "## Exercise 1 \n",
    "\n",
    "Two dices are thrown once and the total score is observed. Use a simulation to find the estimated probability that the total score is even or greater than 7.  A simulation is a repetition of the same experiment multiple times to observe its behavior:\n",
    "\n",
    "- Run the experiment 1000 times (roll 2 dice 1000 times, and sum the number of both dices).\n",
    "- Keep track of the number of times that the sum was either greater than 7 or an even number.\n",
    "- Divide the number from step 2 by the number of iterations (1000)."
   ]
  },
  {
   "cell_type": "code",
   "execution_count": 2,
   "id": "8939d892",
   "metadata": {},
   "outputs": [
    {
     "name": "stdout",
     "output_type": "stream",
     "text": [
      "0.681\n"
     ]
    }
   ],
   "source": [
    "import numpy as np\n",
    "rand1 = np.random.randint(1, 7, 1000)\n",
    "rand2 = np.random.randint(1, 7, 1000)\n",
    "rand_result = rand1 + rand2\n",
    "success_count = 0\n",
    "number = 0\n",
    "for number in rand_result:\n",
    "    if (number % 2 == 0) or (number > 7):\n",
    "        success_count += 1\n",
    "    #if number % 3 == 0:\n",
    "        #success_count += 1\n",
    "    \n",
    "\n",
    "success_rate = success_count/1000\n",
    "print(success_rate)\n"
   ]
  },
  {
   "cell_type": "code",
   "execution_count": 41,
   "id": "28358d3a",
   "metadata": {},
   "outputs": [
    {
     "name": "stdout",
     "output_type": "stream",
     "text": [
      "[6 6 3 2 6 4 1 6 5 3 5 2 5 5 2 6 6 6 3 5 3 2 6 2 4 4 5 6 3 5 1 5 6 6 5 6 1\n",
      " 6 2 3 6 6 3 1 5 4 1 2 1 3 2 5 6 6 1 2 5 6 2 4 6 6 3 1 5 4 2 2 6 5 6 3 5 2\n",
      " 5 6 3 4 6 6 4 6 6 3 6 3 2 2 3 4 3 6 6 3 2 6 4 3 6 4 3 2 2 2 3 1 4 2 4 5 2\n",
      " 5 2 4 2 6 1 2 1 6 3 6 3 5 3 1 3 2 4 2 2 5 6 1 2 3 6 4 2 5 4 6 2 1 2 4 3 1\n",
      " 3 4 2 6 5 2 3 3 3 4 6 3 5 5 1 4 6 1 2 3 5 5 1 1 6 6 4 6 6 6 2 6 5 5 6 3 5\n",
      " 1 2 2 6 4 1 6 6 3 2 3 6 3 3 6 4 1 3 1 6 4 1 1 3 4 6 6 5 2 1 6 3 4 4 4 6 6\n",
      " 2 4 1 2 3 3 5 6 3 4 1 3 2 5 4 6 3 1 4 5 2 4 4 5 4 1 4 3 5 3 3 1 3 4 5 3 6\n",
      " 1 2 1 2 6 5 6 3 6 3 1 3 5 3 3 2 5 4 3 6 3 2 6 6 6 3 2 1 2 4 6 4 3 3 4 5 5\n",
      " 5 4 3 4 6 5 5 4 4 2 6 1 2 3 4 3 3 5 2 5 4 1 6 2 3 4 2 1 3 3 6 2 6 3 2 3 4\n",
      " 2 5 2 1 6 2 2 1 1 2 5 1 6 4 1 6 2 1 4 6 2 3 6 3 6 3 4 4 5 1 4 1 6 2 2 1 3\n",
      " 3 3 3 5 5 2 6 4 4 5 1 1 3 6 5 6 2 1 4 4 3 2 4 3 4 4 3 4 1 1 3 4 2 4 5 6 6\n",
      " 5 4 3 3 4 1 4 5 6 1 4 2 6 2 3 6 4 4 5 5 5 2 2 1 1 4 1 3 1 5 6 1 6 2 3 1 2\n",
      " 3 4 2 1 5 2 1 4 2 2 5 5 4 4 6 5 4 6 1 5 5 2 5 4 2 3 3 2 6 2 5 1 6 3 4 6 1\n",
      " 6 6 4 5 6 5 2 2 3 4 6 5 4 5 6 2 3 2 6 4 1 5 3 1 4 5 1 3 5 2 5 3 4 1 3 1 3\n",
      " 3 1 5 3 5 6 5 5 6 1 4 1 5 5 1 3 2 6 3 2 6 3 2 6 5 4 5 2 4 1 6 4 2 6 3 1 2\n",
      " 6 3 2 1 1 4 6 3 1 5 2 3 5 6 5 4 3 2 1 2 6 3 4 5 2 5 1 4 4 1 4 4 4 1 4 2 6\n",
      " 4 1 2 5 1 1 4 4 2 1 3 5 1 5 2 1 5 2 4 3 4 1 1 3 1 6 1 3 2 5 2 3 1 1 2 4 4\n",
      " 1 6 5 5 6 1 6 5 1 2 2 2 3 3 6 5 1 2 5 5 6 5 2 1 3 1 6 3 1 1 6 2 1 2 5 1 5\n",
      " 2 4 2 6 1 2 5 1 6 4 4 1 2 1 3 4 2 3 5 6 5 1 1 3 5 5 1 1 4 6 6 4 3 2 5 3 5\n",
      " 2 2 1 6 6 6 1 5 3 3 5 4 4 1 3 4 6 5 2 1 4 3 1 2 1 1 6 6 3 4 3 5 4 5 4 4 1\n",
      " 2 6 5 3 2 2 2 4 4 1 6 3 3 3 4 6 3 1 4 3 5 2 5 2 1 1 1 3 1 2 5 3 5 6 2 3 1\n",
      " 2 2 5 4 6 3 3 6 1 3 4 5 1 5 6 2 3 6 1 3 6 4 1 6 4 1 3 3 1 6 5 6 5 1 2 1 3\n",
      " 4 4 4 5 6 6 6 4 6 5 5 6 5 6 3 4 6 6 5 2 4 5 3 6 2 6 3 3 4 5 3 2 6 4 3 2 6\n",
      " 6 5 2 3 6 6 6 4 2 3 1 4 4 3 2 2 2 1 3 2 2 3 4 4 6 5 4 1 5 4 6 5 3 2 5 4 3\n",
      " 1 2 5 1 3 5 5 6 1 6 4 2 5 1 3 1 2 4 1 2 4 3 6 3 3 2 6 2 2 1 1 6 3 5 2 4 3\n",
      " 5 2 6 2 6 5 1 2 3 3 4 1 5 6 3 6 3 4 3 6 6 4 5 5 4 3 1 1 2 4 5 1 3 3 5 5 6\n",
      " 2 4 3 1 5 6 3 1 4 2 5 3 2 5 3 5 3 4 6 5 1 3 4 4 6 2 6 1 4 3 3 3 4 2 1 4 5\n",
      " 2]\n"
     ]
    }
   ],
   "source": [
    "rand_result\n",
    "print(rand1)"
   ]
  },
  {
   "cell_type": "markdown",
   "id": "55732bca",
   "metadata": {},
   "source": [
    "## Exercise 2\n",
    "\n",
    "A box contains 10 white balls, 20 red balls and 30 green balls. If we take 5 balls from the box with replacement (we take the ball, observe what color it is and put it back into the box). We want to know the probability of:\n",
    "\n",
    "1. Take 3 white and 2 red.\n",
    "2. Take all of the same color.\n",
    "\n",
    "Run the experiment 1000 times and calculate the above probabilities."
   ]
  },
  {
   "cell_type": "code",
   "execution_count": null,
   "id": "23244d20",
   "metadata": {},
   "outputs": [
    {
     "name": "stdout",
     "output_type": "stream",
     "text": [
      "The odds of 5 balls being the same color is 0.0334\n",
      "The odds of 3 balls being white and 2 red is 0.0054\n"
     ]
    }
   ],
   "source": [
    "ball_box = {}\n",
    "\n",
    "# Create the box of balls\n",
    "for i in range(60):\n",
    "    if i < 10:\n",
    "        ball_box[i] = \"White\"\n",
    "    elif (i > 9) and (i < 30):\n",
    "        ball_box[i] = \"Red\"\n",
    "    else:\n",
    "        ball_box[i] = \"Green\"\n",
    "\n",
    "\n",
    "same_total = 0\n",
    "rw_total = 0\n",
    "\n",
    "\n",
    "for i in range(0, 10000):\n",
    "    pull = np.random.randint(0, 60, 5)\n",
    "    w_counter = 0\n",
    "    r_counter = 0\n",
    "    same_counter = 0\n",
    "    for i in pull:\n",
    "        if ball_box[i] == \"White\":\n",
    "            w_counter += 1\n",
    "        if ball_box[i] == \"Red\":\n",
    "            r_counter += 1\n",
    "        if ball_box[i] == ball_box[pull[0]]:\n",
    "            same_counter += 1\n",
    "    \n",
    "    if same_counter == 5:\n",
    "        same_total += 1\n",
    "    if (w_counter == 3) and (r_counter == 2):\n",
    "        rw_total += 1\n",
    "\n",
    "same_odds = same_total/10000\n",
    "rw_odds = rw_total/10000\n",
    "\n",
    "print(\"The odds of 5 balls being the same color is \" + str(same_odds))\n",
    "print(\"The odds of 3 balls being white and 2 red is \" + str(rw_odds))\n",
    "\n",
    "            \n",
    "# I changes the number of trials to 10,000 because the red/white outcome was only coming up <10 times per thousand\n",
    "# TODObb"
   ]
  },
  {
   "cell_type": "code",
   "execution_count": 31,
   "id": "ad208dc0",
   "metadata": {},
   "outputs": [
    {
     "data": {
      "text/plain": [
       "'White'"
      ]
     },
     "execution_count": 31,
     "metadata": {},
     "output_type": "execute_result"
    }
   ],
   "source": [
    "ball_box[0]"
   ]
  }
 ],
 "metadata": {
  "kernelspec": {
   "display_name": "Python 3",
   "language": "python",
   "name": "python3"
  },
  "language_info": {
   "codemirror_mode": {
    "name": "ipython",
    "version": 3
   },
   "file_extension": ".py",
   "mimetype": "text/x-python",
   "name": "python",
   "nbconvert_exporter": "python",
   "pygments_lexer": "ipython3",
   "version": "3.11.4"
  }
 },
 "nbformat": 4,
 "nbformat_minor": 5
}
